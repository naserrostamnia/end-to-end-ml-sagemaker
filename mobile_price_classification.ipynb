{
 "cells": [
  {
   "cell_type": "markdown",
   "id": "7e29e6e6-89c4-455f-808e-3cbb87e9667c",
   "metadata": {},
   "source": [
    "# Mobile Price Classification using Machine Learning\n",
    "\n",
    "Mobile price classification is a popular problem in machine learning, where the objective is to build a predictive model that can categorize mobile phones into different price ranges based on their features and specifications. Such a model helps automate the process of estimating the price category of a mobile device, which is valuable for both consumers and sellers. \n",
    "\n",
    "For consumers, it provides insights that aid in comparing devices and making informed purchase decisions. For sellers, it can support competitive pricing strategies and offer a better understanding of market trends.\n",
    "\n",
    "## Dataset\n",
    "\n",
    "The dataset used for this task was sourced from Kaggle under the title \"Mobile Price Classification\". It contains nearly 2000 entries of mobile phones with various features and specifications, along with their corresponding price range. By analyzing the features, the model can predict the price category of a mobile phone.\n",
    "\n",
    "### Features\n",
    "\n",
    "The dataset includes the following features:\n",
    "\n",
    "- **battery_power**: Total energy a battery can store (in mAh).  \n",
    "- **blue**: Bluetooth availability (1 = Yes, 0 = No).  \n",
    "- **clock_speed**: Speed at which the processor executes instructions.  \n",
    "- **dual_sim**: Dual SIM support (1 = Yes, 0 = No).  \n",
    "- **fc**: Front camera resolution (in megapixels).  \n",
    "- **four_g**: 4G support (1 = Yes, 0 = No).  \n",
    "- **int_memory**: Internal memory (in GB).  \n",
    "- **m_dep**: Mobile depth (in cm).  \n",
    "- **mobile_wt**: Weight of the mobile phone.  \n",
    "- **n_cores**: Number of processor cores.  \n",
    "- **pc**: Primary camera resolution (in megapixels).  \n",
    "- **px_height**: Pixel resolution height.  \n",
    "- **px_width**: Pixel resolution width.  \n",
    "- **ram**: Random Access Memory (in MB).  \n",
    "- **sc_h**: Screen height (in cm).  \n",
    "- **sc_w**: Screen width (in cm).  \n",
    "- **talk_time**: Maximum duration a single battery charge lasts.  \n",
    "- **three_g**: 3G support (1 = Yes, 0 = No).  \n",
    "- **touch_screen**: Touchscreen availability (1 = Yes, 0 = No).  \n",
    "- **wifi**: WiFi support (1 = Yes, 0 = No).  \n",
    "- **price_range**: Target variable indicating price category:  \n",
    "  - 0 = Low cost  \n",
    "  - 1 = Medium cost  \n",
    "  - 2 = High cost  \n",
    "  - 3 = Very high cost\n"
   ]
  },
  {
   "cell_type": "code",
   "execution_count": 1,
   "id": "fe1c9ed5-cf67-4f04-b206-c36294ab1b0a",
   "metadata": {},
   "outputs": [
    {
     "name": "stdout",
     "output_type": "stream",
     "text": [
      "sagemaker.config INFO - Not applying SDK defaults from location: /etc/xdg/xdg-ubuntu/sagemaker/config.yaml\n",
      "sagemaker.config INFO - Not applying SDK defaults from location: /home/naser/.config/sagemaker/config.yaml\n"
     ]
    }
   ],
   "source": [
    "import pandas as pd\n",
    "import numpy as np\n",
    "import matplotlib.pyplot as plt\n",
    "import seaborn as sns\n",
    "\n",
    "import sagemaker\n",
    "#from sagemaker import get_execution_role\n",
    "from sagemaker.sklearn import SKLearn\n",
    "import boto3\n",
    "\n",
    "import sklearn\n",
    "from sklearn.datasets import load_iris\n",
    "from sklearn.model_selection import train_test_split\n",
    "\n"
   ]
  },
  {
   "cell_type": "code",
   "execution_count": 2,
   "id": "b41be57f-390b-4722-a969-4c7178dfe2f9",
   "metadata": {},
   "outputs": [
    {
     "data": {
      "text/html": [
       "<div>\n",
       "<style scoped>\n",
       "    .dataframe tbody tr th:only-of-type {\n",
       "        vertical-align: middle;\n",
       "    }\n",
       "\n",
       "    .dataframe tbody tr th {\n",
       "        vertical-align: top;\n",
       "    }\n",
       "\n",
       "    .dataframe thead th {\n",
       "        text-align: right;\n",
       "    }\n",
       "</style>\n",
       "<table border=\"1\" class=\"dataframe\">\n",
       "  <thead>\n",
       "    <tr style=\"text-align: right;\">\n",
       "      <th></th>\n",
       "      <th>battery_power</th>\n",
       "      <th>blue</th>\n",
       "      <th>clock_speed</th>\n",
       "      <th>dual_sim</th>\n",
       "      <th>fc</th>\n",
       "      <th>four_g</th>\n",
       "      <th>int_memory</th>\n",
       "      <th>m_dep</th>\n",
       "      <th>mobile_wt</th>\n",
       "      <th>n_cores</th>\n",
       "      <th>...</th>\n",
       "      <th>px_height</th>\n",
       "      <th>px_width</th>\n",
       "      <th>ram</th>\n",
       "      <th>sc_h</th>\n",
       "      <th>sc_w</th>\n",
       "      <th>talk_time</th>\n",
       "      <th>three_g</th>\n",
       "      <th>touch_screen</th>\n",
       "      <th>wifi</th>\n",
       "      <th>price_range</th>\n",
       "    </tr>\n",
       "  </thead>\n",
       "  <tbody>\n",
       "    <tr>\n",
       "      <th>0</th>\n",
       "      <td>842</td>\n",
       "      <td>0</td>\n",
       "      <td>2.2</td>\n",
       "      <td>0</td>\n",
       "      <td>1</td>\n",
       "      <td>0</td>\n",
       "      <td>7</td>\n",
       "      <td>0.6</td>\n",
       "      <td>188</td>\n",
       "      <td>2</td>\n",
       "      <td>...</td>\n",
       "      <td>20</td>\n",
       "      <td>756</td>\n",
       "      <td>2549</td>\n",
       "      <td>9</td>\n",
       "      <td>7</td>\n",
       "      <td>19</td>\n",
       "      <td>0</td>\n",
       "      <td>0</td>\n",
       "      <td>1</td>\n",
       "      <td>1</td>\n",
       "    </tr>\n",
       "    <tr>\n",
       "      <th>1</th>\n",
       "      <td>1021</td>\n",
       "      <td>1</td>\n",
       "      <td>0.5</td>\n",
       "      <td>1</td>\n",
       "      <td>0</td>\n",
       "      <td>1</td>\n",
       "      <td>53</td>\n",
       "      <td>0.7</td>\n",
       "      <td>136</td>\n",
       "      <td>3</td>\n",
       "      <td>...</td>\n",
       "      <td>905</td>\n",
       "      <td>1988</td>\n",
       "      <td>2631</td>\n",
       "      <td>17</td>\n",
       "      <td>3</td>\n",
       "      <td>7</td>\n",
       "      <td>1</td>\n",
       "      <td>1</td>\n",
       "      <td>0</td>\n",
       "      <td>2</td>\n",
       "    </tr>\n",
       "    <tr>\n",
       "      <th>2</th>\n",
       "      <td>563</td>\n",
       "      <td>1</td>\n",
       "      <td>0.5</td>\n",
       "      <td>1</td>\n",
       "      <td>2</td>\n",
       "      <td>1</td>\n",
       "      <td>41</td>\n",
       "      <td>0.9</td>\n",
       "      <td>145</td>\n",
       "      <td>5</td>\n",
       "      <td>...</td>\n",
       "      <td>1263</td>\n",
       "      <td>1716</td>\n",
       "      <td>2603</td>\n",
       "      <td>11</td>\n",
       "      <td>2</td>\n",
       "      <td>9</td>\n",
       "      <td>1</td>\n",
       "      <td>1</td>\n",
       "      <td>0</td>\n",
       "      <td>2</td>\n",
       "    </tr>\n",
       "    <tr>\n",
       "      <th>3</th>\n",
       "      <td>615</td>\n",
       "      <td>1</td>\n",
       "      <td>2.5</td>\n",
       "      <td>0</td>\n",
       "      <td>0</td>\n",
       "      <td>0</td>\n",
       "      <td>10</td>\n",
       "      <td>0.8</td>\n",
       "      <td>131</td>\n",
       "      <td>6</td>\n",
       "      <td>...</td>\n",
       "      <td>1216</td>\n",
       "      <td>1786</td>\n",
       "      <td>2769</td>\n",
       "      <td>16</td>\n",
       "      <td>8</td>\n",
       "      <td>11</td>\n",
       "      <td>1</td>\n",
       "      <td>0</td>\n",
       "      <td>0</td>\n",
       "      <td>2</td>\n",
       "    </tr>\n",
       "    <tr>\n",
       "      <th>4</th>\n",
       "      <td>1821</td>\n",
       "      <td>1</td>\n",
       "      <td>1.2</td>\n",
       "      <td>0</td>\n",
       "      <td>13</td>\n",
       "      <td>1</td>\n",
       "      <td>44</td>\n",
       "      <td>0.6</td>\n",
       "      <td>141</td>\n",
       "      <td>2</td>\n",
       "      <td>...</td>\n",
       "      <td>1208</td>\n",
       "      <td>1212</td>\n",
       "      <td>1411</td>\n",
       "      <td>8</td>\n",
       "      <td>2</td>\n",
       "      <td>15</td>\n",
       "      <td>1</td>\n",
       "      <td>1</td>\n",
       "      <td>0</td>\n",
       "      <td>1</td>\n",
       "    </tr>\n",
       "  </tbody>\n",
       "</table>\n",
       "<p>5 rows × 21 columns</p>\n",
       "</div>"
      ],
      "text/plain": [
       "   battery_power  blue  clock_speed  dual_sim  fc  four_g  int_memory  m_dep  \\\n",
       "0            842     0          2.2         0   1       0           7    0.6   \n",
       "1           1021     1          0.5         1   0       1          53    0.7   \n",
       "2            563     1          0.5         1   2       1          41    0.9   \n",
       "3            615     1          2.5         0   0       0          10    0.8   \n",
       "4           1821     1          1.2         0  13       1          44    0.6   \n",
       "\n",
       "   mobile_wt  n_cores  ...  px_height  px_width   ram  sc_h  sc_w  talk_time  \\\n",
       "0        188        2  ...         20       756  2549     9     7         19   \n",
       "1        136        3  ...        905      1988  2631    17     3          7   \n",
       "2        145        5  ...       1263      1716  2603    11     2          9   \n",
       "3        131        6  ...       1216      1786  2769    16     8         11   \n",
       "4        141        2  ...       1208      1212  1411     8     2         15   \n",
       "\n",
       "   three_g  touch_screen  wifi  price_range  \n",
       "0        0             0     1            1  \n",
       "1        1             1     0            2  \n",
       "2        1             1     0            2  \n",
       "3        1             0     0            2  \n",
       "4        1             1     0            1  \n",
       "\n",
       "[5 rows x 21 columns]"
      ]
     },
     "execution_count": 2,
     "metadata": {},
     "output_type": "execute_result"
    }
   ],
   "source": [
    "df = pd.read_csv(\"mobile_price_range_data.csv\")\n",
    "df.head()"
   ]
  },
  {
   "cell_type": "code",
   "execution_count": 3,
   "id": "4fb4e07e-efa8-4412-934d-45ebbd38e9e4",
   "metadata": {},
   "outputs": [
    {
     "name": "stdout",
     "output_type": "stream",
     "text": [
      "<class 'pandas.core.frame.DataFrame'>\n",
      "RangeIndex: 2000 entries, 0 to 1999\n",
      "Data columns (total 21 columns):\n",
      " #   Column         Non-Null Count  Dtype  \n",
      "---  ------         --------------  -----  \n",
      " 0   battery_power  2000 non-null   int64  \n",
      " 1   blue           2000 non-null   int64  \n",
      " 2   clock_speed    2000 non-null   float64\n",
      " 3   dual_sim       2000 non-null   int64  \n",
      " 4   fc             2000 non-null   int64  \n",
      " 5   four_g         2000 non-null   int64  \n",
      " 6   int_memory     2000 non-null   int64  \n",
      " 7   m_dep          2000 non-null   float64\n",
      " 8   mobile_wt      2000 non-null   int64  \n",
      " 9   n_cores        2000 non-null   int64  \n",
      " 10  pc             2000 non-null   int64  \n",
      " 11  px_height      2000 non-null   int64  \n",
      " 12  px_width       2000 non-null   int64  \n",
      " 13  ram            2000 non-null   int64  \n",
      " 14  sc_h           2000 non-null   int64  \n",
      " 15  sc_w           2000 non-null   int64  \n",
      " 16  talk_time      2000 non-null   int64  \n",
      " 17  three_g        2000 non-null   int64  \n",
      " 18  touch_screen   2000 non-null   int64  \n",
      " 19  wifi           2000 non-null   int64  \n",
      " 20  price_range    2000 non-null   int64  \n",
      "dtypes: float64(2), int64(19)\n",
      "memory usage: 328.3 KB\n"
     ]
    }
   ],
   "source": [
    "df.info()"
   ]
  },
  {
   "cell_type": "code",
   "execution_count": 4,
   "id": "1227cd97-1682-459c-9dd7-7da8127ace09",
   "metadata": {},
   "outputs": [
    {
     "data": {
      "text/plain": [
       "0"
      ]
     },
     "execution_count": 4,
     "metadata": {},
     "output_type": "execute_result"
    }
   ],
   "source": [
    "df.isnull().sum().sum()"
   ]
  },
  {
   "cell_type": "code",
   "execution_count": 5,
   "id": "fae69e71-6a8a-4348-a5fc-320b9cc1f049",
   "metadata": {},
   "outputs": [
    {
     "data": {
      "text/plain": [
       "Index(['battery_power', 'blue', 'clock_speed', 'dual_sim', 'fc', 'four_g',\n",
       "       'int_memory', 'm_dep', 'mobile_wt', 'n_cores', 'pc', 'px_height',\n",
       "       'px_width', 'ram', 'sc_h', 'sc_w', 'talk_time', 'three_g',\n",
       "       'touch_screen', 'wifi', 'price_range'],\n",
       "      dtype='object')"
      ]
     },
     "execution_count": 5,
     "metadata": {},
     "output_type": "execute_result"
    }
   ],
   "source": [
    "cols = df.columns\n",
    "cols"
   ]
  },
  {
   "cell_type": "code",
   "execution_count": 6,
   "id": "22b00d6e-e7c1-4479-9d93-7c6ae94f8a0a",
   "metadata": {},
   "outputs": [
    {
     "data": {
      "text/plain": [
       "array([1, 2, 3, 0])"
      ]
     },
     "execution_count": 6,
     "metadata": {},
     "output_type": "execute_result"
    }
   ],
   "source": [
    "df['price_range'].unique()"
   ]
  },
  {
   "cell_type": "code",
   "execution_count": 7,
   "id": "35fae351-d9b3-40c7-8941-8a56ebcbeb09",
   "metadata": {},
   "outputs": [
    {
     "data": {
      "text/plain": [
       "price_range\n",
       "1    500\n",
       "2    500\n",
       "3    500\n",
       "0    500\n",
       "Name: count, dtype: int64"
      ]
     },
     "execution_count": 7,
     "metadata": {},
     "output_type": "execute_result"
    }
   ],
   "source": [
    "df['price_range'].value_counts()"
   ]
  },
  {
   "cell_type": "code",
   "execution_count": 8,
   "id": "53f8cd02-b864-457b-8dce-9709a5ef0e8a",
   "metadata": {},
   "outputs": [
    {
     "data": {
      "image/png": "[encoded data removed]",
      "text/plain": [
       "<Figure size 640x480 with 2 Axes>"
      ]
     },
     "metadata": {},
     "output_type": "display_data"
    }
   ],
   "source": [
    "# Create a square heatmap with center at 0\n",
    "correlation = df.corr(numeric_only=True)\n",
    "sns.heatmap(correlation, center=0, square=True, cmap=\"coolwarm\", vmin=-1, vmax=1)\n",
    "plt.grid()\n",
    "plt.show()"
   ]
  },
  {
   "cell_type": "code",
   "execution_count": 9,
   "id": "0409f853-1996-4a1b-8293-ecdedb3876de",
   "metadata": {},
   "outputs": [
    {
     "name": "stdout",
     "output_type": "stream",
     "text": [
      "X shape: (2000, 20)\n",
      " y shape: (2000,)\n"
     ]
    }
   ],
   "source": [
    "X = df.drop('price_range', axis=1)\n",
    "y = df['price_range']\n",
    "\n",
    "print(f\"X shape: {X.shape}\\n y shape: {y.shape}\")"
   ]
  },
  {
   "cell_type": "code",
   "execution_count": 10,
   "id": "d87701c2-23fe-4b25-ab71-f7c721db6a39",
   "metadata": {},
   "outputs": [
    {
     "name": "stdout",
     "output_type": "stream",
     "text": [
      "X_train shape: (1600, 20)\n",
      "X_test shape: (400, 20)\n",
      "y_train shape: (1600,)\n",
      "y_test shape: (400,)\n"
     ]
    }
   ],
   "source": [
    "X_train, X_test, y_train, y_test = train_test_split(X, y, random_state=42, test_size=0.2)\n",
    "print(f\"X_train shape: {X_train.shape}\\nX_test shape: {X_test.shape}\")\n",
    "print(f\"y_train shape: {y_train.shape}\\ny_test shape: {y_test.shape}\")"
   ]
  },
  {
   "cell_type": "code",
   "execution_count": 11,
   "id": "62801202-c964-4254-b6a4-7cc7fee8f9fd",
   "metadata": {},
   "outputs": [
    {
     "name": "stdout",
     "output_type": "stream",
     "text": [
      "Train shape: (1600, 21)\n",
      "Test shape: (400, 21)\n"
     ]
    }
   ],
   "source": [
    "train_df = pd.DataFrame(X_train)\n",
    "train_df['price_range'] = y_train\n",
    "\n",
    "test_df = pd.DataFrame(X_test)\n",
    "test_df['price_range'] = y_test\n",
    "\n",
    "print(f\"Train shape: {train_df.shape}\\nTest shape: {test_df.shape}\")"
   ]
  },
  {
   "cell_type": "code",
   "execution_count": 12,
   "id": "d3693f36-17cf-441e-83b7-7d52caf19ea5",
   "metadata": {},
   "outputs": [],
   "source": [
    "# Save as CSV to upload to S3\n",
    "train_df.to_csv(\"train_v_1.csv\", index=False)\n",
    "test_df.to_csv(\"test_v_1.csv\", index=False)"
   ]
  },
  {
   "cell_type": "markdown",
   "id": "31489d23-6482-45dc-ba6e-246bc251fa6e",
   "metadata": {},
   "source": [
    "# Introduction to Amazon SageMaker for Beginners\n",
    "\n",
    "This guide explains SageMaker concepts and workflow for someone who has little to no prior experience with SageMaker. It uses simple analogies and key explanations to make the concepts easier to understand.\n",
    "\n",
    "---\n",
    "\n",
    "## SageMaker Python SDK: Your ML Toolbox 🧰\n",
    "\n",
    "Imagine you want to **build a birdhouse**. You could start from scratch using raw wood and nails, but it would take a lot longer and be harder.  \n",
    "\n",
    "Instead, someone gives you a **toolbox**:\n",
    "\n",
    "- **Hammer, nails, saw** → Tools to perform specific tasks (like Python libraries and APIs).  \n",
    "- **Instructions** → Documentation explaining how to use the tools.  \n",
    "- **Pre-cut pieces or templates** → Sample code to speed up your work.  \n",
    "\n",
    "The **SageMaker Python SDK** is like this toolbox, providing ready-made tools and instructions to build, train, and deploy machine learning models on AWS without handling all the complicated AWS infrastructure yourself.\n",
    "\n",
    "---\n",
    "\n",
    "## Understanding the S3 Client :\n",
    "`boto3.client('s3')`\n",
    "\n",
    "We are creating a **software helper** (called a **\"client\"**) in Python that knows how to talk to the **Amazon S3 service**,Amazon’s cloud storage service. To interact with it from Python, we use **Boto3**, AWS’s official Python SDK.  \n",
    "\n",
    "- **Client Object**: Think of it as a software helper or a translator between Python and S3.  \n",
    "- **Methods**: `.upload_file()`, `.download_file()`, `.list_objects_v2()` – these let you store and retrieve files easily.  \n",
    "- **Analogy**: S3 is a huge warehouse:\n",
    "  - **Buckets** → Rooms  \n",
    "  - **Folders** → Shelves  \n",
    "  - **Files** → Boxes  \n",
    "  - The S3 client is a warehouse worker who knows the rules and moves boxes for you.\n",
    "\n",
    "---\n",
    "\n",
    "## SageMaker Session, Region, and Default Bucket\n",
    "\n",
    "- **SageMaker Session (`sagemaker.Session()`)**\n",
    "  - Keeps track of your AWS credentials and manages interactions with SageMaker services.  \n",
    "\n",
    "- **Region**\n",
    "  - Each AWS resource (S3, SageMaker, EC2, etc.) belongs to a region (e.g., `eu-central-1`).  \n",
    "  - Using the session’s region ensures consistency across all services without hardcoding.\n",
    "\n",
    "- **Default Bucket**\n",
    "  - SageMaker can automatically create a default S3 bucket to store training data, model artifacts, and temporary files.  \n",
    "  - Useful for experiments and quick setups without manually creating a bucket.\n",
    "\n",
    "**Best Practice:** Always use the SageMaker session to fetch the region and default bucket for portability and consistency.\n",
    "\n",
    "---\n",
    "\n",
    "## SageMaker Execution Role\n",
    "\n",
    "- The execution role is a **set of permissions** allowing SageMaker to access AWS services on your behalf (S3, CloudWatch, ECR, etc.).  \n",
    "- Needed for:\n",
    "  - **Training jobs** → Lets SageMaker read training data and write model artifacts.  \n",
    "  - **Model deployment** → Allows SageMaker to create and manage endpoints.  \n",
    "  - **Processing jobs** → Lets scripts run on SageMaker-managed infrastructure.  \n",
    "  - **Batch Transform jobs** → Enables large-scale inference.  \n",
    "\n",
    "- **Not needed** for local Python operations like pandas, numpy, or direct S3 uploads with `boto3`.\n",
    "\n",
    "**Rule of Thumb:** \n",
    "- Whenever SageMaker runs something on AWS infrastructure for you, you need the execution role.\n",
    "- If running code locally(e.g., in Linux, etc.), provide the full ARN of your SageMaker execution role as follows:\n",
    "  \n",
    "  - Go to AWS Management Console → IAM → Roles → AmazonSageMaker-ExecutionRole-<date> → Copy the Role ARN at the top.\n",
    "\n",
    "---\n",
    "\n",
    "## SageMaker Workflow: From Data to Endpoint\n",
    "\n",
    "Here’s the typical pipeline for deploying a machine learning model using SageMaker:\n",
    "\n",
    "1. **Set Up Session and Role**\n",
    "   - Initialize SageMaker session.\n",
    "   - Retrieve region and default bucket.\n",
    "   - Define execution role for AWS permissions.\n",
    "\n",
    "2. **Upload Data to S3**\n",
    "   - Store training and test datasets in S3 using the session or `boto3` client.\n",
    "\n",
    "3. **Define Training Script**\n",
    "   - Prepare a Python script (`script.py`) containing:\n",
    "     - Data loading and preprocessing.\n",
    "     - Model definition and training (e.g., Random Forest).\n",
    "     - Model evaluation and metrics reporting.\n",
    "     - Model serialization (`joblib`).\n",
    "\n",
    "4. **Create Estimator**\n",
    "   - Define a SageMaker Estimator specifying:\n",
    "     - Training script, instance type, count, hyperparameters.\n",
    "     - Execution role.\n",
    "     - Optional settings like spot instances or max runtime.\n",
    "\n",
    "5. **Train the Model**\n",
    "   - Launch training job on SageMaker.\n",
    "   - Monitor logs and wait for job completion.\n",
    "   - SageMaker stores trained model artifacts in S3.\n",
    "\n",
    "6. **Locate Model Artifact**\n",
    "   - Retrieve the S3 URI of the trained model artifact (e.g., `model.tar.gz` containing `model.joblib`).\n",
    "\n",
    "7. **Deploy Model as Endpoint**\n",
    "   - Use `SKLearnModel` or `Estimator.deploy()` to create an endpoint.\n",
    "   - SageMaker provisions an instance and hosts the model for real-time predictions.\n",
    "\n",
    "8. **Invoke Endpoint for Predictions**\n",
    "   - Send input data to the endpoint using a predictor.\n",
    "   - Receive predictions (e.g., price categories for mobile phones).\n",
    "\n",
    "9. **Clean Up**\n",
    "   - Delete the endpoint when no longer needed to avoid charges.\n",
    "\n",
    "---\n",
    "\n",
    "This workflow allows you to **train, evaluate, deploy, and predict** using AWS SageMaker while minimizing manual management of servers or infrastructure.\n"
   ]
  },
  {
   "cell_type": "code",
   "execution_count": 13,
   "id": "650cfb50-1ec9-4740-9392-1638278cd6fe",
   "metadata": {},
   "outputs": [
    {
     "name": "stdout",
     "output_type": "stream",
     "text": [
      "My default S3 bucket: sagemaker-eu-central-1-577947472108\n",
      "Using AWS region: eu-central-1\n",
      "✅ Uploaded mobile_price_range_data.csv to S3://sagemaker-eu-central-1-577947472108/mobile_price_classification/data/mobile_price_range_data.csv\n"
     ]
    }
   ],
   "source": [
    "# -------------------------\n",
    "# Start SageMaker session\n",
    "# -------------------------\n",
    "sagemaker_session = sagemaker.Session()\n",
    "\n",
    "# Default bucket and AWS region\n",
    "default_bucket_name = sagemaker_session.default_bucket()\n",
    "print(\"My default S3 bucket:\", default_bucket_name)\n",
    "\n",
    "region = sagemaker_session.boto_session.region_name\n",
    "print(\"Using AWS region:\", region)\n",
    "\n",
    "# -------------------------\n",
    "# Execution role\n",
    "# -------------------------\n",
    "# If inside SageMaker Studio/Notebook\n",
    "# role = sagemaker.get_execution_role()\n",
    "\n",
    "# If running locally, provide the full ARN of your SageMaker execution role\n",
    "# Go to AWS Management Console → IAM → Roles → AmazonSageMaker-ExecutionRole-<date> → Copy the Role ARN at the top.\n",
    "role = \"arn:aws:iam::577947472108:role/service-role/AmazonSageMaker-ExecutionRole-20250812T103590\"\n",
    "\n",
    "# -------------------------\n",
    "# S3 Upload\n",
    "# -------------------------\n",
    "bucket_name = default_bucket_name\n",
    "prefix = \"mobile_price_classification\"  # Folder in S3\n",
    "local_file = \"mobile_price_range_data.csv\"\n",
    "s3_key = f\"{prefix}/data/{local_file}\"  # path in S3 bucket: s3_data_path\n",
    "\n",
    "# Create S3 client: used for uploading/downloading files from S3.\n",
    "s3_client = boto3.client(\"s3\", region_name=region)\n",
    "\n",
    "# Upload file\n",
    "try:\n",
    "    s3_client.upload_file(local_file, bucket_name, s3_key)\n",
    "    print(f\"✅ Uploaded {local_file} to S3://{bucket_name}/{s3_key}\")\n",
    "except Exception as e:\n",
    "    print(f\"❌ Upload failed: {e}\")\n"
   ]
  },
  {
   "cell_type": "markdown",
   "id": "c77b0538-df2e-4c20-ba9a-23aa5d314c2e",
   "metadata": {},
   "source": [
    "# Upload Training and Test Data to S3\n",
    "\n",
    "This cell uploads local CSV files to the SageMaker S3 bucket so that the training job can access them:\n",
    "\n",
    "- **`s3_data_path`**: The folder path inside the S3 bucket.  \n",
    "- **`upload_data`**: Uploads local files (`train_v_1.csv` and `test_v_1.csv`) to the specified S3 bucket and prefix.  \n",
    "- **`train_uri_s3` / `test_uri_s3`**: Stores the full S3 URIs of the uploaded training and test data, which are used as inputs when launching the training job.\n"
   ]
  },
  {
   "cell_type": "code",
   "execution_count": 14,
   "id": "43bd850a-9e43-45ab-b56d-d1882894e943",
   "metadata": {},
   "outputs": [
    {
     "name": "stdout",
     "output_type": "stream",
     "text": [
      "Train data S3 URI: s3://sagemaker-eu-central-1-577947472108/mobile_price_classification/data/train_v_1.csv\n",
      "Test data S3 URI: s3://sagemaker-eu-central-1-577947472108/mobile_price_classification/data/test_v_1.csv\n"
     ]
    }
   ],
   "source": [
    "# Upload a directory\n",
    "s3_data_path = f\"{prefix}/data\"    \n",
    "train_uri_s3 = sagemaker_session.upload_data(path='train_v_1.csv', bucket=bucket_name, key_prefix=s3_data_path)\n",
    "test_uri_s3 = sagemaker_session.upload_data(path='test_v_1.csv', bucket=bucket_name, key_prefix=s3_data_path)\n",
    "\n",
    "print(\"Train data S3 URI:\", train_uri_s3)\n",
    "print(\"Test data S3 URI:\", test_uri_s3)"
   ]
  },
  {
   "cell_type": "markdown",
   "id": "6fa21e51-00c8-48ca-bec4-b39bb57ac43d",
   "metadata": {},
   "source": [
    "### Pandas Brackets: One vs Two\n",
    "\n",
    "- **Single brackets `[ ]`:**\n",
    "   If you pass a **string** (e.g., `df[\"col\"]`), you get a **Series** (1D).  \n",
    "    ```python\n",
    "    y_train = train_df[label]   # returns a Series\n",
    "    ```\n",
    "\n",
    "- **Double brackets `[[ ]]`:**\n",
    "  If you pass a **list of columns** (even one), you get a **DataFrame** (2D).  \n",
    "    ```python\n",
    "    y_train = train_df[[label]]   # returns a DataFrame\n",
    "    ```\n",
    "---\n",
    "- **In our code:**\n",
    "  ```python\n",
    "  X_train = train_df[features]   # ✅ features is a list → DataFrame\n",
    "  y_train = train_df[label]      # ✅ label is a string → Series\n"
   ]
  },
  {
   "cell_type": "markdown",
   "id": "cb23ccde-cb74-43f9-87d4-bff37cdf82c9",
   "metadata": {},
   "source": [
    "# Random Forest Training Script for SageMaker\n",
    "\n",
    "This script (`script.py`) trains a Random Forest model on input CSV data using SageMaker and saves the trained model for deployment. It performs the following steps:\n",
    "\n",
    "- `%%` → Indicates that the command applies to the entire cell.  \n",
    "- `writefile` → Tells Jupyter to save the cell’s content into a file.  \n",
    "- `script.py` → The name of the file to be created (or overwritten).  \n",
    "1. **Imports Libraries**: Uses `pandas`, `numpy`, `sklearn`, `joblib`, and `boto3`.  \n",
    "2. **Model Loading Function**: The `model_fn(model_dir)` function loads training and test CSV files from SageMaker channels.  \n",
    "3. **Argument Parsing**: Accepts hyperparameters (`--n-estimators`, `--min-samples-leaf`), data directories (`--train`, `--test`), file names (`--train-file`, `--test-file`), and model directory (`--model-dir`).  \n",
    "4. **Data Loading**: Reads training and testing CSV files from S3 channels or local paths.  \n",
    "5. **Prepare Features and Labels**: Splits data into features (`X_train`, `X_test`) and target labels (`y_train`, `y_test`).  \n",
    "6. **Train the Model**: Trains a `RandomForestClassifier` using the specified hyperparameters.  \n",
    "7. **Validate the Model**: Evaluates the model on test data using accuracy and classification report.  \n",
    "8. **Persist the Model**: Saves the trained model to the `model_dir` using `joblib` so it can be loaded later for inference.\n"
   ]
  },
  {
   "cell_type": "code",
   "execution_count": 15,
   "id": "ea4663b9-a2d1-457a-9471-ebfc2d985604",
   "metadata": {},
   "outputs": [
    {
     "name": "stdout",
     "output_type": "stream",
     "text": [
      "Overwriting script.py\n"
     ]
    }
   ],
   "source": [
    "%%writefile script.py\n",
    "\n",
    "import argparse\n",
    "import boto3\n",
    "import pathlib\n",
    "from io import StringIO\n",
    "import os\n",
    "import joblib\n",
    "import numpy as np\n",
    "import pandas as pd\n",
    "import sklearn\n",
    "from sklearn.ensemble import RandomForestClassifier\n",
    "from sklearn.metrics import balanced_accuracy_score, accuracy_score, precision_score, classification_report, confusion_matrix\n",
    "\n",
    "\n",
    "#this function load the model\n",
    "def model_fn(model_dir):\n",
    "    clf = joblib.load(os.path.join(model_dir, \"model.joblib\"))\n",
    "    return clf\n",
    "\n",
    "if __name__ == \"__main__\":\n",
    "    print(\"extracting arguments\")\n",
    "    parser = argparse.ArgumentParser()\n",
    "\n",
    "    # Hyperparameters sent by the client are passed as command-line arguments to the script.\n",
    "    parser.add_argument(\"--n-estimators\", type=int, default=10)\n",
    "    parser.add_argument(\"--min-samples-leaf\", type=int, default=3)\n",
    "\n",
    "    # Data, model, and output directories\n",
    "    parser.add_argument(\"--model-dir\", type=str, default=os.environ.get(\"SM_MODEL_DIR\"))\n",
    "    parser.add_argument(\"--train\", type=str, default=os.environ.get(\"SM_CHANNEL_TRAIN\"))\n",
    "    parser.add_argument(\"--test\", type=str, default=os.environ.get(\"SM_CHANNEL_TEST\"))\n",
    "    parser.add_argument(\"--train-file\", type=str, default=\"train_v_1.csv\")\n",
    "    parser.add_argument(\"--test-file\", type=str, default=\"test_v_1.csv\")\n",
    "    \n",
    "    args, _ = parser.parse_known_args()\n",
    "\n",
    "    print(\"SKLearn Version: \", sklearn.__version__)\n",
    "    print(\"joblib Version: \", joblib.__version__)\n",
    "    \n",
    "    print(\"reading data\")\n",
    "    # Read data\n",
    "    train_df = pd.read_csv(os.path.join(args.train, args.train_file))\n",
    "    test_df = pd.read_csv(os.path.join(args.test, args.test_file))\n",
    "    \n",
    "    # Features and label\n",
    "    features = list(train_df.columns)\n",
    "    label = features.pop(-1)\n",
    "\n",
    "    print(\"building training and testing datasets\")\n",
    "    X_train = train_df[features]\n",
    "    y_train = train_df[label]\n",
    "    X_test = test_df[features]\n",
    "    y_test = test_df[label]\n",
    "\n",
    "    \n",
    "    # Train model\n",
    "    print(\"training model\")\n",
    "\n",
    "    model = RandomForestClassifier(\n",
    "       n_estimators=args.n_estimators,\n",
    "       min_samples_leaf=args.min_samples_leaf,\n",
    "       n_jobs=-1)\n",
    "\n",
    "    model.fit(X_train, y_train) \n",
    "\n",
    "    \n",
    "    # Validate model\n",
    "    print(\"validating model\")\n",
    "\n",
    "    y_pred = model.predict(X_test)\n",
    "\n",
    "    # Accuracy score\n",
    "    acc = accuracy_score(y_test, y_pred)\n",
    "    print(f\"Test Accuracy: {acc:.3f}\")\n",
    "\n",
    "    # Classification report\n",
    "    clf_report = classification_report(y_test, y_pred)\n",
    "    print(\"Classification Report:\\n\")\n",
    "    print(clf_report)\n",
    "\n",
    "    # Persist model\n",
    "    model_path = os.path.join(args.model_dir, \"model.joblib\")\n",
    "    joblib.dump(model, model_path)\n",
    "    print(\"model persisted at \" + model_path)"
   ]
  },
  {
   "cell_type": "markdown",
   "id": "2fad72b0-ff25-41df-9ada-67e471dcaf94",
   "metadata": {},
   "source": [
    "### Define and Configure the SageMaker SKLearn Estimator\n",
    "\n",
    "This cell sets up the SageMaker `SKLearn` estimator, specifying:\n",
    "- The training script (`script.py`) as the entry point.\n",
    "- The IAM execution role for SageMaker.\n",
    "- Instance type and count.\n",
    "- SKLearn framework version.\n",
    "- Hyperparameters for the Random Forest model (`n_estimators` and `min_samples_leaf`).\n",
    "- Spot instance usage, maximum wait, and run time.\n"
   ]
  },
  {
   "cell_type": "code",
   "execution_count": 16,
   "id": "4679b6e3-bde5-46ff-bf3e-f3b5fca4173a",
   "metadata": {},
   "outputs": [],
   "source": [
    "# We use the Estimator from the SageMaker Python SDK\n",
    "from sagemaker.sklearn.estimator import SKLearn\n",
    "FRAMEWORK_VERSION = \"0.23-1\"\n",
    "\n",
    "sklearn_estimator = SKLearn(\n",
    "   entry_point=\"script.py\",\n",
    "   role= \"arn:aws:iam::577947472108:role/service-role/AmazonSageMaker-ExecutionRole-20250812T103590\",\n",
    "   instance_count=1,\n",
    "   instance_type=\"ml.c5.xlarge\",\n",
    "   framework_version=FRAMEWORK_VERSION,\n",
    "   base_job_name=\"rf-scikit\",\n",
    "   hyperparameters={\n",
    "    \"n_estimators\": 100,\n",
    "    \"min_samples_leaf\": 3,\n",
    " \n",
    "   },\n",
    "   use_spot_instances = True,\n",
    "   max_wait = 7200, \n",
    "   max_run = 3600\n",
    ")"
   ]
  },
  {
   "cell_type": "markdown",
   "id": "59254c1a-41d4-4ecf-bbbe-a6fd0fb047ed",
   "metadata": {},
   "source": [
    "# Launching the Training Job\n",
    "\n",
    "This step sends your training job to SageMaker:\n",
    "\n",
    "- **`sklearn_estimator.fit()`**: Starts training your model using the provided training script and datasets.  \n",
    "- **Input Channels**: A dictionary specifying where the training and test data are in S3 (`{\"train\": ..., \"test\": ...}`).  \n",
    "- **`wait=True`**: Ensures the notebook waits until the training job finishes before moving on.  \n",
    "\n",
    "Key Notes:\n",
    "\n",
    "- SageMaker automatically provisions the specified instance type (`ml.c5.xlarge`) and handles the training environment.  \n",
    "- Your model will be trained with the hyperparameters you defined in the estimator.  \n",
    "- Once training is complete, the model artifact is saved in S3 and is ready for deployment or further analysis.\n"
   ]
  },
  {
   "cell_type": "code",
   "execution_count": 17,
   "id": "83442056-b78c-4ac8-98aa-c19ef5c2dd0a",
   "metadata": {},
   "outputs": [
    {
     "name": "stderr",
     "output_type": "stream",
     "text": [
      "INFO:sagemaker:Creating training-job with name: rf-scikit-2025-08-29-10-41-22-294\n"
     ]
    },
    {
     "name": "stdout",
     "output_type": "stream",
     "text": [
      "2025-08-29 10:41:24 Starting - Starting the training job...\n",
      "2025-08-29 10:41:55 Downloading - Downloading input data...\n",
      "2025-08-29 10:42:10 Downloading - Downloading the training image...\n",
      "2025-08-29 10:42:56 Training - Training image download completed. Training in progress.\n",
      "2025-08-29 10:42:56 Uploading - Uploading generated training model\u001b[34m2025-08-29 10:42:51,430 sagemaker-containers INFO     Imported framework sagemaker_sklearn_container.training\u001b[0m\n",
      "\u001b[34m2025-08-29 10:42:51,433 sagemaker-training-toolkit INFO     No GPUs detected (normal if no gpus installed)\u001b[0m\n",
      "\u001b[34m2025-08-29 10:42:51,469 sagemaker_sklearn_container.training INFO     Invoking user training script.\u001b[0m\n",
      "\u001b[34m2025-08-29 10:42:51,665 sagemaker-training-toolkit INFO     No GPUs detected (normal if no gpus installed)\u001b[0m\n",
      "\u001b[34m2025-08-29 10:42:51,676 sagemaker-training-toolkit INFO     No GPUs detected (normal if no gpus installed)\u001b[0m\n",
      "\u001b[34m2025-08-29 10:42:51,686 sagemaker-training-toolkit INFO     No GPUs detected (normal if no gpus installed)\u001b[0m\n",
      "\u001b[34m2025-08-29 10:42:51,694 sagemaker-training-toolkit INFO     Invoking user script\u001b[0m\n",
      "\u001b[34mTraining Env:\u001b[0m\n",
      "\u001b[34m{\n",
      "    \"additional_framework_parameters\": {},\n",
      "    \"channel_input_dirs\": {\n",
      "        \"test\": \"/opt/ml/input/data/test\",\n",
      "        \"train\": \"/opt/ml/input/data/train\"\n",
      "    },\n",
      "    \"current_host\": \"algo-1\",\n",
      "    \"framework_module\": \"sagemaker_sklearn_container.training:main\",\n",
      "    \"hosts\": [\n",
      "        \"algo-1\"\n",
      "    ],\n",
      "    \"hyperparameters\": {\n",
      "        \"min_samples_leaf\": 3,\n",
      "        \"n_estimators\": 100\n",
      "    },\n",
      "    \"input_config_dir\": \"/opt/ml/input/config\",\n",
      "    \"input_data_config\": {\n",
      "        \"test\": {\n",
      "            \"TrainingInputMode\": \"File\",\n",
      "            \"S3DistributionType\": \"FullyReplicated\",\n",
      "            \"RecordWrapperType\": \"None\"\n",
      "        },\n",
      "        \"train\": {\n",
      "            \"TrainingInputMode\": \"File\",\n",
      "            \"S3DistributionType\": \"FullyReplicated\",\n",
      "            \"RecordWrapperType\": \"None\"\n",
      "        }\n",
      "    },\n",
      "    \"input_dir\": \"/opt/ml/input\",\n",
      "    \"is_master\": true,\n",
      "    \"job_name\": \"rf-scikit-2025-08-29-10-41-22-294\",\n",
      "    \"log_level\": 20,\n",
      "    \"master_hostname\": \"algo-1\",\n",
      "    \"model_dir\": \"/opt/ml/model\",\n",
      "    \"module_dir\": \"s3://sagemaker-eu-central-1-577947472108/rf-scikit-2025-08-29-10-41-22-294/source/sourcedir.tar.gz\",\n",
      "    \"module_name\": \"script\",\n",
      "    \"network_interface_name\": \"eth0\",\n",
      "    \"num_cpus\": 4,\n",
      "    \"num_gpus\": 0,\n",
      "    \"output_data_dir\": \"/opt/ml/output/data\",\n",
      "    \"output_dir\": \"/opt/ml/output\",\n",
      "    \"output_intermediate_dir\": \"/opt/ml/output/intermediate\",\n",
      "    \"resource_config\": {\n",
      "        \"current_host\": \"algo-1\",\n",
      "        \"current_instance_type\": \"ml.c5.xlarge\",\n",
      "        \"current_group_name\": \"homogeneousCluster\",\n",
      "        \"hosts\": [\n",
      "            \"algo-1\"\n",
      "        ],\n",
      "        \"instance_groups\": [\n",
      "            {\n",
      "                \"instance_group_name\": \"homogeneousCluster\",\n",
      "                \"instance_type\": \"ml.c5.xlarge\",\n",
      "                \"hosts\": [\n",
      "                    \"algo-1\"\n",
      "                ]\n",
      "            }\n",
      "        ],\n",
      "        \"network_interface_name\": \"eth0\",\n",
      "        \"topology\": null\n",
      "    },\n",
      "    \"user_entry_point\": \"script.py\"\u001b[0m\n",
      "\u001b[34m}\u001b[0m\n",
      "\u001b[34mEnvironment variables:\u001b[0m\n",
      "\u001b[34mSM_HOSTS=[\"algo-1\"]\u001b[0m\n",
      "\u001b[34mSM_NETWORK_INTERFACE_NAME=eth0\u001b[0m\n",
      "\u001b[34mSM_HPS={\"min_samples_leaf\":3,\"n_estimators\":100}\u001b[0m\n",
      "\u001b[34mSM_USER_ENTRY_POINT=script.py\u001b[0m\n",
      "\u001b[34mSM_FRAMEWORK_PARAMS={}\u001b[0m\n",
      "\u001b[34mSM_RESOURCE_CONFIG={\"current_group_name\":\"homogeneousCluster\",\"current_host\":\"algo-1\",\"current_instance_type\":\"ml.c5.xlarge\",\"hosts\":[\"algo-1\"],\"instance_groups\":[{\"hosts\":[\"algo-1\"],\"instance_group_name\":\"homogeneousCluster\",\"instance_type\":\"ml.c5.xlarge\"}],\"network_interface_name\":\"eth0\",\"topology\":null}\u001b[0m\n",
      "\u001b[34mSM_INPUT_DATA_CONFIG={\"test\":{\"RecordWrapperType\":\"None\",\"S3DistributionType\":\"FullyReplicated\",\"TrainingInputMode\":\"File\"},\"train\":{\"RecordWrapperType\":\"None\",\"S3DistributionType\":\"FullyReplicated\",\"TrainingInputMode\":\"File\"}}\u001b[0m\n",
      "\u001b[34mSM_OUTPUT_DATA_DIR=/opt/ml/output/data\u001b[0m\n",
      "\u001b[34mSM_CHANNELS=[\"test\",\"train\"]\u001b[0m\n",
      "\u001b[34mSM_CURRENT_HOST=algo-1\u001b[0m\n",
      "\u001b[34mSM_MODULE_NAME=script\u001b[0m\n",
      "\u001b[34mSM_LOG_LEVEL=20\u001b[0m\n",
      "\u001b[34mSM_FRAMEWORK_MODULE=sagemaker_sklearn_container.training:main\u001b[0m\n",
      "\u001b[34mSM_INPUT_DIR=/opt/ml/input\u001b[0m\n",
      "\u001b[34mSM_INPUT_CONFIG_DIR=/opt/ml/input/config\u001b[0m\n",
      "\u001b[34mSM_OUTPUT_DIR=/opt/ml/output\u001b[0m\n",
      "\u001b[34mSM_NUM_CPUS=4\u001b[0m\n",
      "\u001b[34mSM_NUM_GPUS=0\u001b[0m\n",
      "\u001b[34mSM_MODEL_DIR=/opt/ml/model\u001b[0m\n",
      "\u001b[34mSM_MODULE_DIR=s3://sagemaker-eu-central-1-577947472108/rf-scikit-2025-08-29-10-41-22-294/source/sourcedir.tar.gz\u001b[0m\n",
      "\u001b[34mSM_TRAINING_ENV={\"additional_framework_parameters\":{},\"channel_input_dirs\":{\"test\":\"/opt/ml/input/data/test\",\"train\":\"/opt/ml/input/data/train\"},\"current_host\":\"algo-1\",\"framework_module\":\"sagemaker_sklearn_container.training:main\",\"hosts\":[\"algo-1\"],\"hyperparameters\":{\"min_samples_leaf\":3,\"n_estimators\":100},\"input_config_dir\":\"/opt/ml/input/config\",\"input_data_config\":{\"test\":{\"RecordWrapperType\":\"None\",\"S3DistributionType\":\"FullyReplicated\",\"TrainingInputMode\":\"File\"},\"train\":{\"RecordWrapperType\":\"None\",\"S3DistributionType\":\"FullyReplicated\",\"TrainingInputMode\":\"File\"}},\"input_dir\":\"/opt/ml/input\",\"is_master\":true,\"job_name\":\"rf-scikit-2025-08-29-10-41-22-294\",\"log_level\":20,\"master_hostname\":\"algo-1\",\"model_dir\":\"/opt/ml/model\",\"module_dir\":\"s3://sagemaker-eu-central-1-577947472108/rf-scikit-2025-08-29-10-41-22-294/source/sourcedir.tar.gz\",\"module_name\":\"script\",\"network_interface_name\":\"eth0\",\"num_cpus\":4,\"num_gpus\":0,\"output_data_dir\":\"/opt/ml/output/data\",\"output_dir\":\"/opt/ml/output\",\"output_intermediate_dir\":\"/opt/ml/output/intermediate\",\"resource_config\":{\"current_group_name\":\"homogeneousCluster\",\"current_host\":\"algo-1\",\"current_instance_type\":\"ml.c5.xlarge\",\"hosts\":[\"algo-1\"],\"instance_groups\":[{\"hosts\":[\"algo-1\"],\"instance_group_name\":\"homogeneousCluster\",\"instance_type\":\"ml.c5.xlarge\"}],\"network_interface_name\":\"eth0\",\"topology\":null},\"user_entry_point\":\"script.py\"}\u001b[0m\n",
      "\u001b[34mSM_USER_ARGS=[\"--min_samples_leaf\",\"3\",\"--n_estimators\",\"100\"]\u001b[0m\n",
      "\u001b[34mSM_OUTPUT_INTERMEDIATE_DIR=/opt/ml/output/intermediate\u001b[0m\n",
      "\u001b[34mSM_CHANNEL_TEST=/opt/ml/input/data/test\u001b[0m\n",
      "\u001b[34mSM_CHANNEL_TRAIN=/opt/ml/input/data/train\u001b[0m\n",
      "\u001b[34mSM_HP_MIN_SAMPLES_LEAF=3\u001b[0m\n",
      "\u001b[34mSM_HP_N_ESTIMATORS=100\u001b[0m\n",
      "\u001b[34mPYTHONPATH=/opt/ml/code:/miniconda3/bin:/miniconda3/lib/python37.zip:/miniconda3/lib/python3.7:/miniconda3/lib/python3.7/lib-dynload:/miniconda3/lib/python3.7/site-packages\u001b[0m\n",
      "\u001b[34mInvoking script with the following command:\u001b[0m\n",
      "\u001b[34m/miniconda3/bin/python script.py --min_samples_leaf 3 --n_estimators 100\u001b[0m\n",
      "\u001b[34mextracting arguments\u001b[0m\n",
      "\u001b[34mSKLearn Version:  0.23.2\u001b[0m\n",
      "\u001b[34mjoblib Version:  1.2.0\u001b[0m\n",
      "\u001b[34mreading data\u001b[0m\n",
      "\u001b[34mbuilding training and testing datasets\u001b[0m\n",
      "\u001b[34mtraining model\u001b[0m\n",
      "\u001b[34mvalidating model\u001b[0m\n",
      "\u001b[34mTest Accuracy: 0.853\u001b[0m\n",
      "\u001b[34mClassification Report:\n",
      "              precision    recall  f1-score   support\n",
      "           0       0.92      0.94      0.93       105\n",
      "           1       0.82      0.78      0.80        91\n",
      "           2       0.75      0.78      0.77        92\n",
      "           3       0.91      0.88      0.90       112\n",
      "    accuracy                           0.85       400\n",
      "   macro avg       0.85      0.85      0.85       400\u001b[0m\n",
      "\u001b[34mweighted avg       0.85      0.85      0.85       400\u001b[0m\n",
      "\u001b[34mmodel persisted at /opt/ml/model/model.joblib\u001b[0m\n",
      "\u001b[34m2025-08-29 10:42:52,870 sagemaker-containers INFO     Reporting training SUCCESS\u001b[0m\n",
      "\n",
      "2025-08-29 10:43:09 Completed - Training job completed\n",
      "Training seconds: 74\n",
      "Billable seconds: 22\n",
      "Managed Spot Training savings: 70.3%\n"
     ]
    }
   ],
   "source": [
    "sklearn_estimator.fit({\"train\": train_uri_s3, \"test\": test_uri_s3}, wait=True)"
   ]
  },
  {
   "cell_type": "markdown",
   "id": "ba126874-3bcc-4ad8-af6f-c4f2793c7224",
   "metadata": {},
   "source": [
    "# Locate Trained Model Artifact in S3:\n",
    "\n",
    "This cell retrieves the S3 location of the trained model: \n",
    "- **sm_boto3**: A SageMaker client used to interact with SageMaker resources.\n",
    "- **Wait for Training Completion**: Ensures the training job has finished before fetching the artifact.\n",
    "- **describe_training_job**: Returns metadata about the training job, including the S3 path of the trained model. -\n",
    "- **artifact_path**: Stores the S3 URI of the trained model artifact(e.g., model.tar.gz), which contains the serialized model (like model.joblib).\n",
    "\n",
    "  It can be used for deployment or further processing."
   ]
  },
  {
   "cell_type": "code",
   "execution_count": 18,
   "id": "8731135a-9335-4e88-ab66-5bf2d248b824",
   "metadata": {},
   "outputs": [
    {
     "name": "stdout",
     "output_type": "stream",
     "text": [
      "\n",
      "2025-08-29 10:43:09 Starting - Preparing the instances for training\n",
      "2025-08-29 10:43:09 Downloading - Downloading the training image\n",
      "2025-08-29 10:43:09 Training - Training image download completed. Training in progress.\n",
      "2025-08-29 10:43:09 Uploading - Uploading generated training model\n",
      "2025-08-29 10:43:09 Completed - Training job completed\n",
      "Model artifact persisted at s3://sagemaker-eu-central-1-577947472108/rf-scikit-2025-08-29-10-41-22-294/output/model.tar.gz\n"
     ]
    }
   ],
   "source": [
    "# SageMaker client\n",
    "sm_boto3 = boto3.client(\"sagemaker\", region_name=region)\n",
    "\n",
    "# Wait for training job to complete\n",
    "sklearn_estimator.latest_training_job.wait(logs=\"None\")\n",
    "\n",
    "# Fetch model artifact S3 path\n",
    "artifact_path = sm_boto3.describe_training_job(\n",
    "    TrainingJobName=sklearn_estimator.latest_training_job.name\n",
    ")[\"ModelArtifacts\"][\"S3ModelArtifacts\"]\n",
    "\n",
    "print(\"Model artifact persisted at \" + artifact_path)\n"
   ]
  },
  {
   "cell_type": "markdown",
   "id": "de6fdc99-caeb-408a-98c1-f99bfdc27463",
   "metadata": {},
   "source": [
    "# Creating a Deployable SageMaker Model\n",
    "\n",
    "This cell prepares a SageMaker `SKLearnModel` object that can be deployed as an endpoint:\n",
    "\n",
    "- **Model Name:** Dynamically generated with the current date and time.  \n",
    "- **Model Data:** Points to the trained model artifact stored in S3 (`artifact_path`).  \n",
    "- **Execution Role:** Provides permissions to SageMaker to access S3 and perform inference.  \n",
    "- **Entry Point:** `script.py` contains the code for loading and using the model.  \n",
    "- **Framework Version:** Specifies the scikit-learn version used during training.\n",
    "\n",
    "Once created, this model object can be deployed to an endpoint for real-time predictions.\n"
   ]
  },
  {
   "cell_type": "code",
   "execution_count": 19,
   "id": "6285d0c6-3732-4f0a-9dd3-deb1ea2f1477",
   "metadata": {},
   "outputs": [],
   "source": [
    "# this cell is to make a copy to deploy a specific model as an end-point\n",
    "\n",
    "from sagemaker.sklearn.model import SKLearnModel\n",
    "from time import gmtime, strftime\n",
    "\n",
    "model_name = \"Custom-sklearn-model-\"+ strftime(\"%Y-%m-%d-%H-%M-%S\", gmtime())\n",
    "model = SKLearnModel(\n",
    "    name = model_name,\n",
    "    model_data=artifact_path,\n",
    "    role = \"arn:aws:iam::577947472108:role/service-role/AmazonSageMaker-ExecutionRole-20250812T103590\",\n",
    "    #role=get_execution_role(),\n",
    "    entry_point=\"script.py\",\n",
    "    framework_version=FRAMEWORK_VERSION,\n",
    ")"
   ]
  },
  {
   "cell_type": "code",
   "execution_count": 20,
   "id": "106bdf55-3556-43cb-9519-0c76a7ab8f27",
   "metadata": {},
   "outputs": [
    {
     "data": {
      "text/plain": [
       "'Custom-sklearn-model-2025-08-29-10-43-50'"
      ]
     },
     "execution_count": 20,
     "metadata": {},
     "output_type": "execute_result"
    }
   ],
   "source": [
    "model_name"
   ]
  },
  {
   "cell_type": "markdown",
   "id": "0170a64b-a272-487a-95af-bdb6fefc94d6",
   "metadata": {},
   "source": [
    "# Deploying the Model as a SageMaker Endpoint\n",
    "\n",
    "This cell deploys the trained Random Forest model to a SageMaker endpoint:\n",
    "\n",
    "- **Endpoint Name:** Generated dynamically using the current date and time. It must follow SageMaker naming rules:  \n",
    "  - Only letters, numbers, and hyphens (`-`) are allowed.  \n",
    "  - Cannot end with a hyphen.  \n",
    "  - Underscores (`_`) are not allowed.\n",
    "- **Instance Type:** `ml.m4.xlarge`  \n",
    "- **Instance Count:** 1  \n",
    "\n",
    "The `predictor` object returned allows us to make real-time predictions on new data using this endpoint.\n"
   ]
  },
  {
   "cell_type": "code",
   "execution_count": 33,
   "id": "6b88ba15-56aa-43bd-acb6-291a8b1c1938",
   "metadata": {},
   "outputs": [
    {
     "name": "stdout",
     "output_type": "stream",
     "text": [
      "EndpointName=Custom-sklearn-model-2025-08-29-11-20-45\n"
     ]
    },
    {
     "name": "stderr",
     "output_type": "stream",
     "text": [
      "INFO:sagemaker:Creating model with name: Custom-sklearn-model-2025-08-29-10-43-50\n",
      "WARNING:sagemaker:Using already existing model: Custom-sklearn-model-2025-08-29-10-43-50\n",
      "INFO:sagemaker:Creating endpoint-config with name Custom-sklearn-model-2025-08-29-11-20-45\n",
      "INFO:sagemaker:Creating endpoint with name Custom-sklearn-model-2025-08-29-11-20-45\n"
     ]
    },
    {
     "name": "stdout",
     "output_type": "stream",
     "text": [
      "-------!"
     ]
    }
   ],
   "source": [
    "endpoint_name = \"Custom-sklearn-model-\"+ strftime(\"%Y-%m-%d-%H-%M-%S\", gmtime()) # %m → month, %M → minutes\n",
    "print(\"EndpointName={}\".format(endpoint_name))\n",
    "\n",
    "predictor = model.deploy(instance_type=\"ml.m4.xlarge\", \n",
    "                         initial_instance_count=1, \n",
    "                         endpoint_name = endpoint_name)\n"
   ]
  },
  {
   "cell_type": "code",
   "execution_count": 39,
   "id": "089f5e69-1e44-4de2-9415-3099bb4f1bf5",
   "metadata": {},
   "outputs": [
    {
     "name": "stdout",
     "output_type": "stream",
     "text": [
      "Features: ['battery_power', 'blue', 'clock_speed', 'dual_sim', 'fc', 'four_g', 'int_memory', 'm_dep', 'mobile_wt', 'n_cores', 'pc', 'px_height', 'px_width', 'ram', 'sc_h', 'sc_w', 'talk_time', 'three_g', 'touch_screen', 'wifi']\n"
     ]
    },
    {
     "data": {
      "text/plain": [
       "[[1646.0,\n",
       "  0.0,\n",
       "  2.5,\n",
       "  0.0,\n",
       "  3.0,\n",
       "  1.0,\n",
       "  25.0,\n",
       "  0.6,\n",
       "  200.0,\n",
       "  2.0,\n",
       "  5.0,\n",
       "  211.0,\n",
       "  1608.0,\n",
       "  686.0,\n",
       "  8.0,\n",
       "  6.0,\n",
       "  11.0,\n",
       "  1.0,\n",
       "  1.0,\n",
       "  0.0],\n",
       " [1182.0,\n",
       "  0.0,\n",
       "  0.5,\n",
       "  0.0,\n",
       "  7.0,\n",
       "  1.0,\n",
       "  8.0,\n",
       "  0.5,\n",
       "  138.0,\n",
       "  8.0,\n",
       "  16.0,\n",
       "  275.0,\n",
       "  986.0,\n",
       "  2563.0,\n",
       "  19.0,\n",
       "  17.0,\n",
       "  19.0,\n",
       "  1.0,\n",
       "  0.0,\n",
       "  0.0]]"
      ]
     },
     "execution_count": 39,
     "metadata": {},
     "output_type": "execute_result"
    }
   ],
   "source": [
    "features = test_df.columns.drop('price_range')\n",
    "print(f\"Features: {features.to_list()}\")\n",
    "\n",
    "test_df[features][0:2].values.tolist()"
   ]
  },
  {
   "cell_type": "code",
   "execution_count": 40,
   "id": "db162519-84ba-45e6-bf8a-c8f5019af819",
   "metadata": {},
   "outputs": [
    {
     "data": {
      "text/plain": [
       "<sagemaker.sklearn.model.SKLearnPredictor at 0x7199ec863390>"
      ]
     },
     "execution_count": 40,
     "metadata": {},
     "output_type": "execute_result"
    }
   ],
   "source": [
    "predictor"
   ]
  },
  {
   "cell_type": "markdown",
   "id": "cbd6a8f5-79a4-4e68-926e-57e87ad396c8",
   "metadata": {},
   "source": [
    "# Make Predictions with Deployed Model\n",
    "\n",
    "This cell uses the deployed SageMaker `predictor` to generate predictions for the first two rows of the test dataset.  \n",
    "The output, stored in `price_predictions`, represents the predicted mobile price categories for these samples.\n",
    "\n",
    "### Interpreting Predicted Price Categories\n",
    "\n",
    "In this mobile price classification model, the numeric predictions correspond to price categories:\n",
    "\n",
    "- `0` → Low price  \n",
    "- `1` → Medium price  \n",
    "- `2` → High price  \n",
    "- `3` → Very high price  \n",
    "\n",
    "So, for example, if `price_predictions = [0, 2]`, it means:  \n",
    "- The first mobile is predicted to be **low priced**  \n",
    "- The second mobile is predicted to be **high priced**\n"
   ]
  },
  {
   "cell_type": "code",
   "execution_count": 41,
   "id": "797c4844-ac5f-4da2-b0e0-dcc9e419601d",
   "metadata": {},
   "outputs": [
    {
     "data": {
      "text/plain": [
       "array([0, 2])"
      ]
     },
     "execution_count": 41,
     "metadata": {},
     "output_type": "execute_result"
    }
   ],
   "source": [
    "features = test_df.columns.drop('price_range')\n",
    "price_predictions = predictor.predict(test_df[features][0:2].values.tolist())\n",
    "price_predictions"
   ]
  },
  {
   "cell_type": "markdown",
   "id": "b2929bc4-7455-4255-8f89-6e602cb08e24",
   "metadata": {},
   "source": [
    "# Delete SageMaker Endpoint\n",
    "\n",
    "This cell deletes the deployed SageMaker endpoint associated with the `predictor`. \n",
    "Removing the endpoint helps avoid ongoing charges for the hosted model.\n"
   ]
  },
  {
   "cell_type": "code",
   "execution_count": 45,
   "id": "6541a9b2-4c20-436d-929e-454907c80f28",
   "metadata": {},
   "outputs": [],
   "source": [
    "##sm_boto3.delete_endpoint()\n",
    "#sm_boto3.delete_endpoint(EndpointName=predictor.endpoint_name)"
   ]
  },
  {
   "cell_type": "markdown",
   "id": "b7f202be-9456-44ae-b25f-a84003dc547a",
   "metadata": {},
   "source": [
    "# Automatically Deleting the Latest SageMaker Endpoint\n",
    "\n",
    "This cell **finds and deletes the most recently created SageMaker endpoint** to free up resources and avoid unnecessary costs:\n",
    "\n",
    "- `list_endpoints(MaxResults=10)` → Lists the last 10 endpoints in your account.  \n",
    "- `sorted(..., key=lambda x: x['CreationTime'])` → Sorts endpoints by creation time.  \n",
    "- `latest_endpoint = ...` → Selects the newest endpoint.  \n",
    "- `delete_endpoint(EndpointName=latest_endpoint)` → Deletes that endpoint from SageMaker.  \n",
    "\n",
    "💡 **Tip:** Always delete endpoints you no longer need to **save AWS costs**.\n"
   ]
  },
  {
   "cell_type": "code",
   "execution_count": 44,
   "id": "d49915e4-7df8-4776-9ae0-75fad1bee1e2",
   "metadata": {},
   "outputs": [
    {
     "name": "stdout",
     "output_type": "stream",
     "text": [
      "Deleting endpoint: Custom-sklearn-model-2025-08-29-10-43-50\n"
     ]
    },
    {
     "data": {
      "text/plain": [
       "{'ResponseMetadata': {'RequestId': '23536934-770d-4242-b330-707d83a4e16d',\n",
       "  'HTTPStatusCode': 200,\n",
       "  'HTTPHeaders': {'x-amzn-requestid': '23536934-770d-4242-b330-707d83a4e16d',\n",
       "   'content-type': 'application/x-amz-json-1.1',\n",
       "   'date': 'Fri, 29 Aug 2025 12:04:14 GMT',\n",
       "   'content-length': '0'},\n",
       "  'RetryAttempts': 0}}"
      ]
     },
     "execution_count": 44,
     "metadata": {},
     "output_type": "execute_result"
    }
   ],
   "source": [
    "response = sm_boto3.list_endpoints(MaxResults=10)\n",
    "endpoints_sorted = sorted(response['Endpoints'], key=lambda x: x['CreationTime'])\n",
    "latest_endpoint = endpoints_sorted[-1]['EndpointName']\n",
    "\n",
    "print(\"Deleting endpoint:\", latest_endpoint)\n",
    "sm_boto3.delete_endpoint(EndpointName=latest_endpoint)\n"
   ]
  },
  {
   "cell_type": "code",
   "execution_count": null,
   "id": "aeab880f-76f2-4c1b-8003-15c865ee7f09",
   "metadata": {},
   "outputs": [],
   "source": []
  }
 ],
 "metadata": {
  "kernelspec": {
   "display_name": "Python 3 (ipykernel)",
   "language": "python",
   "name": "python3"
  },
  "language_info": {
   "codemirror_mode": {
    "name": "ipython",
    "version": 3
   },
   "file_extension": ".py",
   "mimetype": "text/x-python",
   "name": "python",
   "nbconvert_exporter": "python",
   "pygments_lexer": "ipython3",
   "version": "3.13.7"
  }
 },
 "nbformat": 4,
 "nbformat_minor": 5
}
